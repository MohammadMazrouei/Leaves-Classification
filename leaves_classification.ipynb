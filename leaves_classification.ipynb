{
 "cells": [
  {
   "cell_type": "markdown",
   "id": "a10025cb-4760-470a-ae94-91aea1ef65b9",
   "metadata": {},
   "source": [
    "Mohammad Mazrouei  \n",
    "4003613056"
   ]
  },
  {
   "cell_type": "markdown",
   "id": "b2deedc8-e303-465a-950d-3c5a2822da0a",
   "metadata": {
    "jp-MarkdownHeadingCollapsed": true
   },
   "source": [
    "# Imports"
   ]
  },
  {
   "cell_type": "code",
   "execution_count": 1,
   "id": "bd3af192-df56-42d5-bdb3-8ec1625a084e",
   "metadata": {},
   "outputs": [],
   "source": [
    "import pandas as pd\n",
    "import numpy as np\n",
    "import matplotlib.pyplot as plt\n",
    "import timeit\n",
    "import os\n",
    "\n",
    "from sklearn.model_selection import train_test_split\n",
    "from sklearn.preprocessing import StandardScaler\n",
    "from sklearn.preprocessing import LabelEncoder\n",
    "\n",
    "from sklearn.neighbors import KNeighborsClassifier\n",
    "from sklearn.tree import DecisionTreeClassifier\n",
    "from sklearn.ensemble import RandomForestClassifier\n",
    "from sklearn.linear_model import LogisticRegression\n",
    "from sklearn.svm import SVC\n",
    "from sklearn.naive_bayes import GaussianNB\n",
    "from xgboost import XGBClassifier\n",
    "from lightgbm import LGBMClassifier\n",
    "from sklearn.metrics import classification_report, accuracy_score\n",
    "\n",
    "from sklearn.cluster import KMeans, AgglomerativeClustering, DBSCAN, OPTICS, SpectralClustering\n",
    "from sklearn.mixture import GaussianMixture\n",
    "from sklearn.metrics import silhouette_score\n",
    "from scipy.spatial.distance import pdist, cdist\n",
    "from sklearn.metrics import adjusted_rand_score, normalized_mutual_info_score, homogeneity_score, completeness_score, v_measure_score\n",
    "\n",
    "import torch\n",
    "import cv2\n",
    "from torchvision.transforms import Compose, ToTensor\n",
    "import torchvision.models as models\n",
    "import torchvision.transforms as transforms\n",
    "from PIL import Image\n",
    "import mahotas as mt\n",
    "from skimage.feature import corner_harris, corner_subpix, corner_peaks, CENSURE\n",
    "import scipy.ndimage as ndi\n",
    "from scipy.spatial import distance"
   ]
  },
  {
   "cell_type": "markdown",
   "id": "9a3f0e02-ba1f-46f0-b765-b28e50021474",
   "metadata": {
    "jp-MarkdownHeadingCollapsed": true
   },
   "source": [
    "# Pre-Process"
   ]
  },
  {
   "cell_type": "code",
   "execution_count": 2,
   "id": "90d20aa9-10f0-48a4-9932-e722e090dbac",
   "metadata": {},
   "outputs": [
    {
     "name": "stdout",
     "output_type": "stream",
     "text": [
      "(340, 16)\n"
     ]
    },
    {
     "data": {
      "text/html": [
       "<div>\n",
       "<style scoped>\n",
       "    .dataframe tbody tr th:only-of-type {\n",
       "        vertical-align: middle;\n",
       "    }\n",
       "\n",
       "    .dataframe tbody tr th {\n",
       "        vertical-align: top;\n",
       "    }\n",
       "\n",
       "    .dataframe thead th {\n",
       "        text-align: right;\n",
       "    }\n",
       "</style>\n",
       "<table border=\"1\" class=\"dataframe\">\n",
       "  <thead>\n",
       "    <tr style=\"text-align: right;\">\n",
       "      <th></th>\n",
       "      <th>Label</th>\n",
       "      <th>NO</th>\n",
       "      <th>Feature_1</th>\n",
       "      <th>Feature_2</th>\n",
       "      <th>Feature_3</th>\n",
       "      <th>Feature_4</th>\n",
       "      <th>Feature_5</th>\n",
       "      <th>Feature_6</th>\n",
       "      <th>Feature_7</th>\n",
       "      <th>Feature_8</th>\n",
       "      <th>Feature_9</th>\n",
       "      <th>Feature_10</th>\n",
       "      <th>Feature_11</th>\n",
       "      <th>Feature_12</th>\n",
       "      <th>Feature_13</th>\n",
       "      <th>Feature_14</th>\n",
       "    </tr>\n",
       "  </thead>\n",
       "  <tbody>\n",
       "    <tr>\n",
       "      <th>0</th>\n",
       "      <td>1</td>\n",
       "      <td>1</td>\n",
       "      <td>0.72694</td>\n",
       "      <td>1.4742</td>\n",
       "      <td>0.32396</td>\n",
       "      <td>0.98535</td>\n",
       "      <td>1.00000</td>\n",
       "      <td>0.83592</td>\n",
       "      <td>0.004657</td>\n",
       "      <td>0.003947</td>\n",
       "      <td>0.047790</td>\n",
       "      <td>0.127950</td>\n",
       "      <td>0.016108</td>\n",
       "      <td>0.005232</td>\n",
       "      <td>0.000275</td>\n",
       "      <td>1.17560</td>\n",
       "    </tr>\n",
       "    <tr>\n",
       "      <th>1</th>\n",
       "      <td>1</td>\n",
       "      <td>2</td>\n",
       "      <td>0.74173</td>\n",
       "      <td>1.5257</td>\n",
       "      <td>0.36116</td>\n",
       "      <td>0.98152</td>\n",
       "      <td>0.99825</td>\n",
       "      <td>0.79867</td>\n",
       "      <td>0.005242</td>\n",
       "      <td>0.005002</td>\n",
       "      <td>0.024160</td>\n",
       "      <td>0.090476</td>\n",
       "      <td>0.008119</td>\n",
       "      <td>0.002708</td>\n",
       "      <td>0.000075</td>\n",
       "      <td>0.69659</td>\n",
       "    </tr>\n",
       "    <tr>\n",
       "      <th>2</th>\n",
       "      <td>1</td>\n",
       "      <td>3</td>\n",
       "      <td>0.76722</td>\n",
       "      <td>1.5725</td>\n",
       "      <td>0.38998</td>\n",
       "      <td>0.97755</td>\n",
       "      <td>1.00000</td>\n",
       "      <td>0.80812</td>\n",
       "      <td>0.007457</td>\n",
       "      <td>0.010121</td>\n",
       "      <td>0.011897</td>\n",
       "      <td>0.057445</td>\n",
       "      <td>0.003289</td>\n",
       "      <td>0.000921</td>\n",
       "      <td>0.000038</td>\n",
       "      <td>0.44348</td>\n",
       "    </tr>\n",
       "    <tr>\n",
       "      <th>3</th>\n",
       "      <td>1</td>\n",
       "      <td>4</td>\n",
       "      <td>0.73797</td>\n",
       "      <td>1.4597</td>\n",
       "      <td>0.35376</td>\n",
       "      <td>0.97566</td>\n",
       "      <td>1.00000</td>\n",
       "      <td>0.81697</td>\n",
       "      <td>0.006877</td>\n",
       "      <td>0.008607</td>\n",
       "      <td>0.015950</td>\n",
       "      <td>0.065491</td>\n",
       "      <td>0.004271</td>\n",
       "      <td>0.001154</td>\n",
       "      <td>0.000066</td>\n",
       "      <td>0.58785</td>\n",
       "    </tr>\n",
       "    <tr>\n",
       "      <th>4</th>\n",
       "      <td>1</td>\n",
       "      <td>5</td>\n",
       "      <td>0.82301</td>\n",
       "      <td>1.7707</td>\n",
       "      <td>0.44462</td>\n",
       "      <td>0.97698</td>\n",
       "      <td>1.00000</td>\n",
       "      <td>0.75493</td>\n",
       "      <td>0.007428</td>\n",
       "      <td>0.010042</td>\n",
       "      <td>0.007938</td>\n",
       "      <td>0.045339</td>\n",
       "      <td>0.002051</td>\n",
       "      <td>0.000560</td>\n",
       "      <td>0.000024</td>\n",
       "      <td>0.34214</td>\n",
       "    </tr>\n",
       "  </tbody>\n",
       "</table>\n",
       "</div>"
      ],
      "text/plain": [
       "   Label  NO  Feature_1  Feature_2  Feature_3  Feature_4  Feature_5  \\\n",
       "0      1   1    0.72694     1.4742    0.32396    0.98535    1.00000   \n",
       "1      1   2    0.74173     1.5257    0.36116    0.98152    0.99825   \n",
       "2      1   3    0.76722     1.5725    0.38998    0.97755    1.00000   \n",
       "3      1   4    0.73797     1.4597    0.35376    0.97566    1.00000   \n",
       "4      1   5    0.82301     1.7707    0.44462    0.97698    1.00000   \n",
       "\n",
       "   Feature_6  Feature_7  Feature_8  Feature_9  Feature_10  Feature_11  \\\n",
       "0    0.83592   0.004657   0.003947   0.047790    0.127950    0.016108   \n",
       "1    0.79867   0.005242   0.005002   0.024160    0.090476    0.008119   \n",
       "2    0.80812   0.007457   0.010121   0.011897    0.057445    0.003289   \n",
       "3    0.81697   0.006877   0.008607   0.015950    0.065491    0.004271   \n",
       "4    0.75493   0.007428   0.010042   0.007938    0.045339    0.002051   \n",
       "\n",
       "   Feature_12  Feature_13  Feature_14  \n",
       "0    0.005232    0.000275     1.17560  \n",
       "1    0.002708    0.000075     0.69659  \n",
       "2    0.000921    0.000038     0.44348  \n",
       "3    0.001154    0.000066     0.58785  \n",
       "4    0.000560    0.000024     0.34214  "
      ]
     },
     "execution_count": 2,
     "metadata": {},
     "output_type": "execute_result"
    }
   ],
   "source": [
    "data = pd.read_csv('./leaves.csv', header=None)\n",
    "columns = ['Label'] + ['NO'] + [f'Feature_{i - 1}' for i in range(2, data.shape[1])]\n",
    "data.columns = columns\n",
    "\n",
    "print(data.shape)\n",
    "data.head()"
   ]
  },
  {
   "cell_type": "code",
   "execution_count": 3,
   "id": "ca74cf80-ae7a-4907-8273-761367893980",
   "metadata": {},
   "outputs": [],
   "source": [
    "X = data.drop(columns=['Label', 'NO'])\n",
    "y = data['Label']\n",
    "label_encoder = LabelEncoder()\n",
    "y = label_encoder.fit_transform(y)"
   ]
  },
  {
   "cell_type": "code",
   "execution_count": 4,
   "id": "e6db7e60-8fe5-4781-8c43-342d12b36f34",
   "metadata": {},
   "outputs": [],
   "source": [
    "# Pre Process\n",
    "X_train, X_test, y_train, y_test = train_test_split(X, y, test_size=0.3)\n",
    "\n",
    "scaler = StandardScaler()\n",
    "X_train = scaler.fit_transform(X_train)\n",
    "X_test = scaler.transform(X_test)"
   ]
  },
  {
   "cell_type": "markdown",
   "id": "54139351-e66a-4b10-95ff-44d6135f515c",
   "metadata": {
    "jp-MarkdownHeadingCollapsed": true
   },
   "source": [
    "# Classification"
   ]
  },
  {
   "cell_type": "code",
   "execution_count": 5,
   "id": "a3e8e1cf-81f1-40ea-850b-e3e16576fcde",
   "metadata": {},
   "outputs": [],
   "source": [
    "def run(classifier, rep=1):\n",
    "    accuracies = []\n",
    "    time = 0\n",
    "    \n",
    "    for _ in range(rep):\n",
    "        X_train, X_test, y_train, y_test = train_test_split(X, y, test_size=0.3)\n",
    "        \n",
    "        scaler = StandardScaler()\n",
    "        X_train = scaler.fit_transform(X_train)\n",
    "        X_test = scaler.transform(X_test)\n",
    "\n",
    "        start = timeit.default_timer()\n",
    "        classifier.fit(X_train, y_train)\n",
    "        end = timeit.default_timer()\n",
    "        y_pred = classifier.predict(X_test)\n",
    "\n",
    "        time += end - start\n",
    "        accuracies.append(accuracy_score(y_test, y_pred))\n",
    "        report = classification_report(y_test, y_pred, zero_division=1)\n",
    "\n",
    "    avg_time = time / rep\n",
    "    print(f'average time: {round(avg_time, 6)} sec')\n",
    "    avg_accuracy = sum(accuracies) / rep\n",
    "    print(f'average accuracy: {round(avg_accuracy, 6)}\\n')\n",
    "    print(report)\n",
    "    \n",
    "    plt.figure(figsize=(8, 6))\n",
    "    plt.boxplot(accuracies)\n",
    "    plt.title('Box Plot of Accuracies')\n",
    "    plt.ylabel('Accuracy')\n",
    "    plt.show()"
   ]
  },
  {
   "cell_type": "markdown",
   "id": "ae8f30c6-044e-4477-aa74-f30b63271217",
   "metadata": {
    "jp-MarkdownHeadingCollapsed": true
   },
   "source": [
    "## KNN"
   ]
  },
  {
   "cell_type": "code",
   "execution_count": 6,
   "id": "95ed04d0-954e-49eb-a50b-5f567de926cb",
   "metadata": {},
   "outputs": [
    {
     "name": "stdout",
     "output_type": "stream",
     "text": [
      "average time: 0.000393 sec\n",
      "average accuracy: 0.627941\n",
      "\n",
      "              precision    recall  f1-score   support\n",
      "\n",
      "           0       0.75      0.75      0.75         4\n",
      "           1       0.30      1.00      0.46         3\n",
      "           2       0.75      0.60      0.67         5\n",
      "           3       0.50      1.00      0.67         1\n",
      "           4       1.00      1.00      1.00         5\n",
      "           6       0.50      0.50      0.50         2\n",
      "           7       1.00      1.00      1.00         2\n",
      "           8       0.57      0.80      0.67         5\n",
      "           9       1.00      0.50      0.67         2\n",
      "          10       1.00      1.00      1.00         9\n",
      "          11       0.50      0.50      0.50         2\n",
      "          12       0.80      0.80      0.80         5\n",
      "          13       0.40      1.00      0.57         2\n",
      "          14       1.00      1.00      1.00         3\n",
      "          15       1.00      0.25      0.40         4\n",
      "          16       1.00      1.00      1.00         1\n",
      "          17       0.67      0.40      0.50         5\n",
      "          18       1.00      0.75      0.86         4\n",
      "          19       0.50      0.40      0.44         5\n",
      "          20       0.50      0.67      0.57         3\n",
      "          21       0.33      0.50      0.40         2\n",
      "          22       0.67      1.00      0.80         2\n",
      "          23       1.00      0.40      0.57         5\n",
      "          24       0.25      0.50      0.33         2\n",
      "          25       1.00      0.00      0.00         4\n",
      "          26       0.75      0.75      0.75         4\n",
      "          27       0.75      0.50      0.60         6\n",
      "          28       1.00      1.00      1.00         3\n",
      "          29       1.00      1.00      1.00         2\n",
      "\n",
      "    accuracy                           0.69       102\n",
      "   macro avg       0.74      0.71      0.67       102\n",
      "weighted avg       0.78      0.69      0.68       102\n",
      "\n"
     ]
    },
    {
     "data": {
      "image/png": "[encoded data removed]",
      "text/plain": [
       "<Figure size 800x600 with 1 Axes>"
      ]
     },
     "metadata": {},
     "output_type": "display_data"
    }
   ],
   "source": [
    "knn = KNeighborsClassifier(n_neighbors=4)\n",
    "run(knn, 20)"
   ]
  },
  {
   "cell_type": "markdown",
   "id": "d4bc543b-0b1b-4f51-a3ec-adb98018ac19",
   "metadata": {
    "jp-MarkdownHeadingCollapsed": true
   },
   "source": [
    "## Decision Tree"
   ]
  },
  {
   "cell_type": "code",
   "execution_count": 7,
   "id": "91e5cb09-15da-438f-bae7-97cd6140322e",
   "metadata": {},
   "outputs": [
    {
     "name": "stdout",
     "output_type": "stream",
     "text": [
      "average time: 0.002278 sec\n",
      "average accuracy: 0.592647\n",
      "\n",
      "              precision    recall  f1-score   support\n",
      "\n",
      "           0       0.50      0.50      0.50         4\n",
      "           1       0.50      0.20      0.29         5\n",
      "           2       0.00      0.00      1.00         1\n",
      "           3       0.00      0.00      1.00         1\n",
      "           4       0.83      0.71      0.77         7\n",
      "           5       0.67      0.67      0.67         3\n",
      "           6       0.75      0.50      0.60         6\n",
      "           7       1.00      1.00      1.00         3\n",
      "           8       0.00      0.00      1.00         3\n",
      "           9       0.50      0.67      0.57         3\n",
      "          10       0.89      1.00      0.94         8\n",
      "          11       0.50      0.50      0.50         2\n",
      "          12       0.40      0.67      0.50         3\n",
      "          13       0.50      1.00      0.67         3\n",
      "          14       1.00      0.50      0.67         2\n",
      "          15       1.00      0.40      0.57         5\n",
      "          16       0.67      0.67      0.67         3\n",
      "          17       1.00      0.50      0.67         4\n",
      "          18       0.60      1.00      0.75         3\n",
      "          19       0.00      0.00      1.00         2\n",
      "          20       0.50      0.33      0.40         3\n",
      "          21       0.50      1.00      0.67         2\n",
      "          22       1.00      0.75      0.86         4\n",
      "          23       0.33      0.50      0.40         2\n",
      "          24       1.00      0.75      0.86         4\n",
      "          25       0.17      0.33      0.22         3\n",
      "          26       1.00      1.00      1.00         1\n",
      "          27       0.83      1.00      0.91         5\n",
      "          28       0.25      0.33      0.29         3\n",
      "          29       1.00      0.75      0.86         4\n",
      "\n",
      "    accuracy                           0.62       102\n",
      "   macro avg       0.60      0.57      0.69       102\n",
      "weighted avg       0.67      0.62      0.69       102\n",
      "\n"
     ]
    },
    {
     "data": {
      "image/png": "[encoded data removed]",
      "text/plain": [
       "<Figure size 800x600 with 1 Axes>"
      ]
     },
     "metadata": {},
     "output_type": "display_data"
    }
   ],
   "source": [
    "decision_tree = DecisionTreeClassifier()\n",
    "run(decision_tree, 20)"
   ]
  },
  {
   "cell_type": "markdown",
   "id": "b493ce6c-45a0-4896-bb41-9ce58f04a211",
   "metadata": {
    "jp-MarkdownHeadingCollapsed": true
   },
   "source": [
    "## Random Forest"
   ]
  },
  {
   "cell_type": "code",
   "execution_count": 16,
   "id": "3d95ab6f-d926-478d-8b31-0e7ac78f4a55",
   "metadata": {},
   "outputs": [
    {
     "name": "stdout",
     "output_type": "stream",
     "text": [
      "average time: 0.176263 sec\n",
      "average accuracy: 0.726961\n",
      "\n",
      "              precision    recall  f1-score   support\n",
      "\n",
      "           0       1.00      0.83      0.91         6\n",
      "           1       0.80      0.67      0.73         6\n",
      "           2       1.00      0.33      0.50         3\n",
      "           3       1.00      0.00      0.00         2\n",
      "           4       0.67      1.00      0.80         2\n",
      "           5       1.00      1.00      1.00         3\n",
      "           6       0.67      0.67      0.67         3\n",
      "           7       1.00      1.00      1.00         3\n",
      "           8       0.20      1.00      0.33         1\n",
      "           9       1.00      0.75      0.86         4\n",
      "          10       1.00      1.00      1.00         8\n",
      "          11       1.00      0.43      0.60         7\n",
      "          12       0.50      1.00      0.67         2\n",
      "          13       0.38      1.00      0.55         3\n",
      "          14       1.00      1.00      1.00         2\n",
      "          15       0.80      1.00      0.89         4\n",
      "          16       1.00      1.00      1.00         1\n",
      "          17       0.80      1.00      0.89         4\n",
      "          18       1.00      1.00      1.00         4\n",
      "          19       0.50      1.00      0.67         1\n",
      "          20       1.00      0.80      0.89         5\n",
      "          21       0.50      0.14      0.22         7\n",
      "          22       1.00      1.00      1.00         4\n",
      "          23       1.00      1.00      1.00         3\n",
      "          24       1.00      1.00      1.00         1\n",
      "          25       0.33      0.17      0.22         6\n",
      "          26       0.67      1.00      0.80         2\n",
      "          27       1.00      1.00      1.00         1\n",
      "          28       0.33      1.00      0.50         2\n",
      "          29       1.00      1.00      1.00         2\n",
      "\n",
      "    accuracy                           0.75       102\n",
      "   macro avg       0.80      0.83      0.76       102\n",
      "weighted avg       0.82      0.75      0.74       102\n",
      "\n"
     ]
    },
    {
     "data": {
      "image/png": "[encoded data removed]",
      "text/plain": [
       "<Figure size 800x600 with 1 Axes>"
      ]
     },
     "metadata": {},
     "output_type": "display_data"
    }
   ],
   "source": [
    "random_forest = RandomForestClassifier(n_estimators=250, max_depth=16, min_samples_leaf=2, min_samples_split=5)\n",
    "run(random_forest, 20)"
   ]
  },
  {
   "cell_type": "markdown",
   "id": "96cf4ee4-ba26-427a-beab-17447b4e33bd",
   "metadata": {
    "jp-MarkdownHeadingCollapsed": true
   },
   "source": [
    "## Logistic Regression"
   ]
  },
  {
   "cell_type": "code",
   "execution_count": 17,
   "id": "24acb2ae-7219-44f7-82c1-e6f4261a19eb",
   "metadata": {},
   "outputs": [
    {
     "name": "stdout",
     "output_type": "stream",
     "text": [
      "average time: 0.012179 sec\n",
      "average accuracy: 0.72402\n",
      "\n",
      "              precision    recall  f1-score   support\n",
      "\n",
      "           0       0.75      1.00      0.86         3\n",
      "           1       0.25      1.00      0.40         1\n",
      "           2       1.00      0.60      0.75         5\n",
      "           3       1.00      0.00      0.00         4\n",
      "           4       0.60      1.00      0.75         3\n",
      "           5       1.00      1.00      1.00         2\n",
      "           6       0.50      0.25      0.33         4\n",
      "           7       1.00      1.00      1.00         2\n",
      "           8       1.00      0.33      0.50         9\n",
      "           9       0.50      0.75      0.60         4\n",
      "          10       1.00      1.00      1.00         2\n",
      "          11       0.67      1.00      0.80         2\n",
      "          12       0.57      1.00      0.73         4\n",
      "          13       1.00      0.20      0.33         5\n",
      "          14       1.00      1.00      1.00         3\n",
      "          15       0.80      0.80      0.80         5\n",
      "          16       0.80      1.00      0.89         4\n",
      "          17       0.33      0.67      0.44         3\n",
      "          18       0.50      1.00      0.67         2\n",
      "          19       0.50      0.40      0.44         5\n",
      "          20       1.00      0.50      0.67         4\n",
      "          21       0.20      1.00      0.33         1\n",
      "          22       1.00      1.00      1.00         2\n",
      "          23       0.50      0.67      0.57         3\n",
      "          24       1.00      1.00      1.00         3\n",
      "          25       0.33      0.33      0.33         3\n",
      "          26       1.00      0.80      0.89         5\n",
      "          27       1.00      1.00      1.00         6\n",
      "          28       0.50      0.33      0.40         3\n",
      "\n",
      "    accuracy                           0.68       102\n",
      "   macro avg       0.73      0.75      0.67       102\n",
      "weighted avg       0.78      0.68      0.66       102\n",
      "\n"
     ]
    },
    {
     "data": {
      "image/png": "[encoded data removed]",
      "text/plain": [
       "<Figure size 800x600 with 1 Axes>"
      ]
     },
     "metadata": {},
     "output_type": "display_data"
    }
   ],
   "source": [
    "logistic_regression = LogisticRegression(max_iter=1000)\n",
    "run(logistic_regression, 20)"
   ]
  },
  {
   "cell_type": "markdown",
   "id": "b1cf1148-1327-4229-a633-641d2f31f337",
   "metadata": {
    "jp-MarkdownHeadingCollapsed": true
   },
   "source": [
    "## SVM"
   ]
  },
  {
   "cell_type": "code",
   "execution_count": 18,
   "id": "661c6d29-a838-4e4c-8e77-42998728bfd3",
   "metadata": {},
   "outputs": [
    {
     "name": "stdout",
     "output_type": "stream",
     "text": [
      "average time: 0.004086 sec\n",
      "average accuracy: 0.576961\n",
      "\n",
      "              precision    recall  f1-score   support\n",
      "\n",
      "           0       0.60      0.75      0.67         4\n",
      "           1       1.00      0.00      0.00         2\n",
      "           2       1.00      0.25      0.40         4\n",
      "           3       1.00      0.00      0.00         2\n",
      "           4       0.17      1.00      0.29         1\n",
      "           5       1.00      1.00      1.00         1\n",
      "           6       1.00      0.33      0.50         3\n",
      "           7       1.00      1.00      1.00         2\n",
      "           8       0.18      0.67      0.29         3\n",
      "           9       1.00      0.60      0.75         5\n",
      "          10       1.00      1.00      1.00         7\n",
      "          11       1.00      0.17      0.29         6\n",
      "          12       0.75      0.50      0.60         6\n",
      "          13       0.43      1.00      0.60         3\n",
      "          14       1.00      1.00      1.00         4\n",
      "          15       0.33      0.25      0.29         4\n",
      "          17       0.60      0.75      0.67         4\n",
      "          18       1.00      1.00      1.00         3\n",
      "          19       1.00      0.25      0.40         4\n",
      "          20       0.33      1.00      0.50         3\n",
      "          21       1.00      0.50      0.67         4\n",
      "          22       1.00      1.00      1.00         3\n",
      "          23       1.00      0.17      0.29         6\n",
      "          24       0.75      0.75      0.75         4\n",
      "          25       0.12      0.50      0.20         2\n",
      "          26       1.00      0.60      0.75         5\n",
      "          27       0.50      1.00      0.67         1\n",
      "          28       1.00      0.67      0.80         3\n",
      "          29       1.00      1.00      1.00         3\n",
      "\n",
      "    accuracy                           0.61       102\n",
      "   macro avg       0.79      0.64      0.60       102\n",
      "weighted avg       0.83      0.61      0.61       102\n",
      "\n"
     ]
    },
    {
     "data": {
      "image/png": "[encoded data removed]",
      "text/plain": [
       "<Figure size 800x600 with 1 Axes>"
      ]
     },
     "metadata": {},
     "output_type": "display_data"
    }
   ],
   "source": [
    "svm = SVC()\n",
    "run(svm, 20)"
   ]
  },
  {
   "cell_type": "markdown",
   "id": "5c0bb142-d734-4d92-8540-e2110c236779",
   "metadata": {
    "jp-MarkdownHeadingCollapsed": true
   },
   "source": [
    "## Naive Bayes"
   ]
  },
  {
   "cell_type": "code",
   "execution_count": 21,
   "id": "8a78737e-f6f8-4f21-b122-7ec721a05b82",
   "metadata": {},
   "outputs": [
    {
     "name": "stdout",
     "output_type": "stream",
     "text": [
      "average time: 0.000873 sec\n",
      "average accuracy: 0.701961\n",
      "\n",
      "              precision    recall  f1-score   support\n",
      "\n",
      "           0       0.33      0.50      0.40         2\n",
      "           1       1.00      0.33      0.50         3\n",
      "           2       0.50      1.00      0.67         1\n",
      "           3       0.00      1.00      0.00         0\n",
      "           4       1.00      0.89      0.94         9\n",
      "           5       0.33      1.00      0.50         1\n",
      "           6       1.00      0.60      0.75         5\n",
      "           7       1.00      1.00      1.00         3\n",
      "           8       0.50      0.40      0.44         5\n",
      "           9       0.71      1.00      0.83         5\n",
      "          10       1.00      1.00      1.00         1\n",
      "          11       0.60      1.00      0.75         3\n",
      "          12       1.00      0.25      0.40         8\n",
      "          13       0.60      1.00      0.75         3\n",
      "          14       1.00      0.67      0.80         3\n",
      "          15       0.50      0.40      0.44         5\n",
      "          16       1.00      0.29      0.44         7\n",
      "          17       1.00      0.67      0.80         6\n",
      "          18       1.00      1.00      1.00         1\n",
      "          19       1.00      0.50      0.67         6\n",
      "          20       0.29      0.67      0.40         3\n",
      "          21       1.00      0.50      0.67         2\n",
      "          22       0.75      1.00      0.86         3\n",
      "          23       1.00      1.00      1.00         2\n",
      "          24       1.00      0.83      0.91         6\n",
      "          25       0.67      1.00      0.80         2\n",
      "          26       0.20      0.50      0.29         2\n",
      "          27       0.75      1.00      0.86         3\n",
      "          29       0.67      1.00      0.80         2\n",
      "\n",
      "    accuracy                           0.68       102\n",
      "   macro avg       0.74      0.76      0.68       102\n",
      "weighted avg       0.82      0.68      0.69       102\n",
      "\n"
     ]
    },
    {
     "data": {
      "image/png": "[encoded data removed]",
      "text/plain": [
       "<Figure size 800x600 with 1 Axes>"
      ]
     },
     "metadata": {},
     "output_type": "display_data"
    }
   ],
   "source": [
    "naive_bayes = GaussianNB()\n",
    "run(naive_bayes, 20)"
   ]
  },
  {
   "cell_type": "markdown",
   "id": "11b4c4ed-95c4-4d9a-808a-c273d4c96a36",
   "metadata": {
    "jp-MarkdownHeadingCollapsed": true
   },
   "source": [
    "## XGBoost"
   ]
  },
  {
   "cell_type": "code",
   "execution_count": 22,
   "id": "0db3f24f-cd39-4ce1-b8ec-d5d338fce792",
   "metadata": {},
   "outputs": [
    {
     "name": "stdout",
     "output_type": "stream",
     "text": [
      "average time: 0.370117 sec\n",
      "average accuracy: 0.656863\n",
      "\n",
      "              precision    recall  f1-score   support\n",
      "\n",
      "           0       1.00      1.00      1.00         4\n",
      "           1       0.40      0.50      0.44         4\n",
      "           2       1.00      0.50      0.67         2\n",
      "           3       1.00      0.33      0.50         3\n",
      "           4       1.00      1.00      1.00         4\n",
      "           5       0.50      0.50      0.50         2\n",
      "           6       0.33      0.50      0.40         2\n",
      "           7       1.00      1.00      1.00         3\n",
      "           8       0.33      1.00      0.50         2\n",
      "           9       0.67      0.67      0.67         3\n",
      "          10       0.86      1.00      0.92         6\n",
      "          11       0.50      1.00      0.67         2\n",
      "          12       0.25      0.33      0.29         3\n",
      "          13       0.00      0.00      1.00         3\n",
      "          14       1.00      0.50      0.67         4\n",
      "          15       0.75      1.00      0.86         3\n",
      "          16       0.75      0.50      0.60         6\n",
      "          17       0.67      1.00      0.80         4\n",
      "          18       1.00      0.50      0.67         4\n",
      "          19       0.25      0.33      0.29         3\n",
      "          20       1.00      0.67      0.80         3\n",
      "          21       0.00      0.00      1.00         1\n",
      "          22       1.00      0.80      0.89         5\n",
      "          23       0.83      1.00      0.91         5\n",
      "          24       0.71      1.00      0.83         5\n",
      "          25       0.33      0.25      0.29         4\n",
      "          26       0.25      0.33      0.29         3\n",
      "          27       1.00      0.40      0.57         5\n",
      "          28       1.00      0.50      0.67         2\n",
      "          29       1.00      1.00      1.00         2\n",
      "\n",
      "    accuracy                           0.67       102\n",
      "   macro avg       0.68      0.64      0.69       102\n",
      "weighted avg       0.72      0.67      0.70       102\n",
      "\n"
     ]
    },
    {
     "data": {
      "image/png": "[encoded data removed]",
      "text/plain": [
       "<Figure size 800x600 with 1 Axes>"
      ]
     },
     "metadata": {},
     "output_type": "display_data"
    }
   ],
   "source": [
    "xgboost = XGBClassifier(use_label_encoder=False, eval_metric='logloss')\n",
    "run(xgboost, 20)"
   ]
  },
  {
   "cell_type": "markdown",
   "id": "a8824684-df6d-4c94-be4b-81a00c1a7628",
   "metadata": {
    "jp-MarkdownHeadingCollapsed": true
   },
   "source": [
    "## LGBM"
   ]
  },
  {
   "cell_type": "code",
   "execution_count": 23,
   "id": "2189bcba-de97-4c85-988c-44f1eec830e0",
   "metadata": {},
   "outputs": [
    {
     "name": "stdout",
     "output_type": "stream",
     "text": [
      "average time: 0.287288 sec\n",
      "average accuracy: 0.678431\n",
      "\n",
      "              precision    recall  f1-score   support\n",
      "\n",
      "           0       0.67      0.50      0.57         4\n",
      "           1       1.00      0.50      0.67         2\n",
      "           2       1.00      1.00      1.00         4\n",
      "           3       0.00      0.00      1.00         1\n",
      "           4       1.00      1.00      1.00         5\n",
      "           5       0.00      0.00      1.00         2\n",
      "           6       0.50      0.50      0.50         4\n",
      "           7       1.00      1.00      1.00         4\n",
      "           8       0.75      0.60      0.67         5\n",
      "           9       0.67      0.67      0.67         3\n",
      "          10       0.67      1.00      0.80         4\n",
      "          11       0.00      0.00      1.00         2\n",
      "          12       0.67      0.67      0.67         6\n",
      "          13       0.80      0.80      0.80         5\n",
      "          14       0.67      1.00      0.80         2\n",
      "          15       1.00      0.20      0.33         5\n",
      "          16       1.00      0.57      0.73         7\n",
      "          17       0.75      0.50      0.60         6\n",
      "          18       1.00      1.00      1.00         1\n",
      "          19       0.00      1.00      0.00         0\n",
      "          20       0.67      1.00      0.80         2\n",
      "          21       0.25      0.50      0.33         2\n",
      "          22       0.80      1.00      0.89         4\n",
      "          23       1.00      1.00      1.00         3\n",
      "          24       0.50      0.67      0.57         3\n",
      "          25       0.00      0.00      1.00         2\n",
      "          26       0.50      0.67      0.57         3\n",
      "          27       0.75      0.75      0.75         4\n",
      "          28       0.50      0.67      0.57         3\n",
      "          29       1.00      0.75      0.86         4\n",
      "\n",
      "    accuracy                           0.67       102\n",
      "   macro avg       0.64      0.65      0.74       102\n",
      "weighted avg       0.73      0.67      0.74       102\n",
      "\n"
     ]
    },
    {
     "data": {
      "image/png": "[encoded data removed]",
      "text/plain": [
       "<Figure size 800x600 with 1 Axes>"
      ]
     },
     "metadata": {},
     "output_type": "display_data"
    }
   ],
   "source": [
    "lgb = LGBMClassifier(verbose=-1)\n",
    "run(lgb, 20)"
   ]
  },
  {
   "cell_type": "markdown",
   "id": "a65ef43a-5cdb-4ba5-8bc8-a965ef422061",
   "metadata": {
    "jp-MarkdownHeadingCollapsed": true
   },
   "source": [
    "# Clustering"
   ]
  },
  {
   "cell_type": "markdown",
   "id": "e5317576-4e34-4b79-afa4-f33e1385eceb",
   "metadata": {},
   "source": [
    "**Adjusted Rand Index (ARI):** Measures the similarity between two data clusterings by considering all pairs of samples and counting pairs  that are assigned in the same or different clusters in the predicted and true clusterings.  \n",
    "\n",
    "**Normalized Mutual Information (NMI):** Measures the amount of shared information between the predicted and true clusters. It is normalized   to be between 0 (no mutual information) and 1 (perfect correlation).  \n",
    "\n",
    "**Homogeneity:** Each cluster contains only members of a single class.  \n",
    "\n",
    "**Completeness:** All members of a given class are assigned to the same cluster.  \n",
    "\n",
    "**V-Measure:** Harmonic mean of homogeneity and completeness.  "
   ]
  },
  {
   "cell_type": "code",
   "execution_count": 31,
   "id": "5f153a5a-3b5f-4689-a8a5-f3629e4c8659",
   "metadata": {},
   "outputs": [],
   "source": [
    "def dunn_index(points, labels):\n",
    "    unique_labels = np.unique(labels)\n",
    "    n_clusters = len(unique_labels)\n",
    "    \n",
    "    if n_clusters == 1:\n",
    "        return 0\n",
    "    \n",
    "    # Compute all pairwise distances\n",
    "    distances = pdist(points)\n",
    "    max_intra_cluster_dist = 0\n",
    "    min_inter_cluster_dist = np.inf\n",
    "    \n",
    "    for i in range(n_clusters):\n",
    "        cluster_i = points[labels == unique_labels[i]]\n",
    "        if len(cluster_i) > 1:\n",
    "            intra_distances = pdist(cluster_i)\n",
    "            max_intra_cluster_dist = max(max_intra_cluster_dist, intra_distances.max())\n",
    "    \n",
    "    for i in range(n_clusters):\n",
    "        for j in range(i + 1, n_clusters):\n",
    "            cluster_i = points[labels == unique_labels[i]]\n",
    "            cluster_j = points[labels == unique_labels[j]]\n",
    "            inter_distances = cdist(cluster_i, cluster_j)\n",
    "            min_inter_cluster_dist = min(min_inter_cluster_dist, inter_distances.min())\n",
    "    \n",
    "    dunn_index_value = min_inter_cluster_dist / max_intra_cluster_dist\n",
    "    return dunn_index_value\n",
    "    \n",
    "\n",
    "def run0(model, rep=1):\n",
    "    silhouette = dunn = ari = nmi = homogeneity = completeness = v_measure = 0\n",
    "    time = 0\n",
    "    \n",
    "    for _ in range(rep):\n",
    "        start = timeit.default_timer()\n",
    "        clusters = model.fit_predict(X)\n",
    "        end = timeit.default_timer()\n",
    "        \n",
    "        time += end - start\n",
    "\n",
    "        silhouette += silhouette_score(X, clusters)\n",
    "        dunn += dunn_index(X, clusters)\n",
    "        ari += adjusted_rand_score(data['Label'], clusters)\n",
    "        nmi += normalized_mutual_info_score(data['Label'], clusters)\n",
    "        homogeneity += homogeneity_score(data['Label'], clusters)\n",
    "        completeness += completeness_score(data['Label'], clusters)\n",
    "        v_measure += v_measure_score(data['Label'], clusters)\n",
    "\n",
    "    data2 = pd.DataFrame()\n",
    "    data2['Label'] = data['Label']\n",
    "    data2['Cluster'] = clusters\n",
    "    print(data2.head(22))\n",
    "    print()\n",
    "    \n",
    "    print(\"Time:         \", round(time / rep, 6), \"sec\")\n",
    "    print(\"Silhouette:   \", round(silhouette / rep, 6))\n",
    "    print(\"Dunn Index:   \", round(dunn / rep, 6))\n",
    "    print(\"ARI:          \", round(ari / rep, 6))\n",
    "    print(\"NMI:          \", round(nmi / rep, 6))\n",
    "    print(\"Homogeneity:  \", round(homogeneity / rep, 6))\n",
    "    print(\"Completeness: \", round(completeness / rep, 6))\n",
    "    print(\"V-Measure:    \", round(v_measure / rep, 6))"
   ]
  },
  {
   "cell_type": "markdown",
   "id": "7498a0e9-f074-4247-a040-404368d0e3fb",
   "metadata": {
    "jp-MarkdownHeadingCollapsed": true
   },
   "source": [
    "## K-Means"
   ]
  },
  {
   "cell_type": "code",
   "execution_count": 32,
   "id": "bc7ff2d5-b2f0-4b4c-886c-8ab653a01b22",
   "metadata": {},
   "outputs": [
    {
     "name": "stdout",
     "output_type": "stream",
     "text": [
      "    Label  Cluster\n",
      "0       1        6\n",
      "1       1       14\n",
      "2       1       14\n",
      "3       1       14\n",
      "4       1       25\n",
      "5       1       14\n",
      "6       1       25\n",
      "7       1       14\n",
      "8       1       25\n",
      "9       1       25\n",
      "10      1       14\n",
      "11      1       14\n",
      "12      2       23\n",
      "13      2        2\n",
      "14      2        2\n",
      "15      2        2\n",
      "16      2        2\n",
      "17      2        2\n",
      "18      2        2\n",
      "19      2        2\n",
      "20      2       23\n",
      "21      2       12\n",
      "\n",
      "Time:          0.035555 sec\n",
      "Silhouette:    0.327772\n",
      "Dunn Index:    0.03178\n",
      "ARI:           0.257296\n",
      "NMI:           0.63468\n",
      "Homogeneity:   0.597118\n",
      "Completeness:  0.677284\n",
      "V-Measure:     0.63468\n"
     ]
    },
    {
     "name": "stderr",
     "output_type": "stream",
     "text": [
      "/home/mohammad/.local/lib/python3.11/site-packages/sklearn/cluster/_kmeans.py:1416: FutureWarning: The default value of `n_init` will change from 10 to 'auto' in 1.4. Set the value of `n_init` explicitly to suppress the warning\n",
      "  super()._check_params_vs_input(X, default_n_init=10)\n"
     ]
    }
   ],
   "source": [
    "kmeans = KMeans(n_clusters=30)\n",
    "run0(kmeans)"
   ]
  },
  {
   "cell_type": "markdown",
   "id": "71f1c11c-9062-4e27-b673-f0990f3d1d54",
   "metadata": {
    "jp-MarkdownHeadingCollapsed": true
   },
   "source": [
    "## Agglomerative"
   ]
  },
  {
   "cell_type": "code",
   "execution_count": 33,
   "id": "95a60389-f479-4eec-9b15-451e64e5a25b",
   "metadata": {},
   "outputs": [
    {
     "name": "stdout",
     "output_type": "stream",
     "text": [
      "    Label  Cluster\n",
      "0       1       25\n",
      "1       1       19\n",
      "2       1       19\n",
      "3       1       19\n",
      "4       1       19\n",
      "5       1       19\n",
      "6       1       19\n",
      "7       1       19\n",
      "8       1       19\n",
      "9       1       18\n",
      "10      1       19\n",
      "11      1       19\n",
      "12      2       18\n",
      "13      2       18\n",
      "14      2       18\n",
      "15      2        9\n",
      "16      2       18\n",
      "17      2        9\n",
      "18      2        9\n",
      "19      2       18\n",
      "20      2       18\n",
      "21      2       10\n",
      "\n",
      "Time:          0.003783 sec\n",
      "Silhouette:    0.311913\n",
      "Dunn Index:    0.073077\n",
      "ARI:           0.272858\n",
      "NMI:           0.637546\n",
      "Homogeneity:   0.602958\n",
      "Completeness:  0.676342\n",
      "V-Measure:     0.637546\n"
     ]
    }
   ],
   "source": [
    "agg = AgglomerativeClustering(n_clusters=30)\n",
    "run0(agg)"
   ]
  },
  {
   "cell_type": "markdown",
   "id": "81edac68-89e5-4fe7-8e45-7275709b723e",
   "metadata": {
    "jp-MarkdownHeadingCollapsed": true
   },
   "source": [
    "## Spectral Clustering"
   ]
  },
  {
   "cell_type": "code",
   "execution_count": 34,
   "id": "e5ab7f50-750f-4b8d-b3a9-075c1363a3cd",
   "metadata": {},
   "outputs": [
    {
     "name": "stderr",
     "output_type": "stream",
     "text": [
      "/home/mohammad/.local/lib/python3.11/site-packages/sklearn/manifold/_spectral_embedding.py:273: UserWarning: Graph is not fully connected, spectral embedding may not work as expected.\n",
      "  warnings.warn(\n"
     ]
    },
    {
     "name": "stdout",
     "output_type": "stream",
     "text": [
      "    Label  Cluster\n",
      "0       1       21\n",
      "1       1        9\n",
      "2       1       23\n",
      "3       1       23\n",
      "4       1       23\n",
      "5       1       23\n",
      "6       1       23\n",
      "7       1       23\n",
      "8       1       14\n",
      "9       1       14\n",
      "10      1       23\n",
      "11      1       23\n",
      "12      2        4\n",
      "13      2        4\n",
      "14      2        4\n",
      "15      2       17\n",
      "16      2        4\n",
      "17      2       17\n",
      "18      2       25\n",
      "19      2        4\n",
      "20      2       22\n",
      "21      2       26\n",
      "\n",
      "Time:          0.862169 sec\n",
      "Silhouette:    0.290259\n",
      "Dunn Index:    0.005847\n",
      "ARI:           0.366698\n",
      "NMI:           0.686631\n",
      "Homogeneity:   0.683558\n",
      "Completeness:  0.689732\n",
      "V-Measure:     0.686631\n"
     ]
    }
   ],
   "source": [
    "spectral_clustering = SpectralClustering(n_clusters=30, affinity='nearest_neighbors')\n",
    "run0(spectral_clustering)"
   ]
  },
  {
   "cell_type": "markdown",
   "id": "4ae751fe-e021-45b6-9140-25d15c63c3f6",
   "metadata": {
    "jp-MarkdownHeadingCollapsed": true
   },
   "source": [
    "## Gaussian Mixture"
   ]
  },
  {
   "cell_type": "code",
   "execution_count": 35,
   "id": "1d3e1e7d-9c97-432a-9a9a-7b0605d8c598",
   "metadata": {},
   "outputs": [
    {
     "name": "stdout",
     "output_type": "stream",
     "text": [
      "    Label  Cluster\n",
      "0       1       26\n",
      "1       1       26\n",
      "2       1       11\n",
      "3       1       11\n",
      "4       1       11\n",
      "5       1       11\n",
      "6       1       11\n",
      "7       1       26\n",
      "8       1       11\n",
      "9       1       11\n",
      "10      1       11\n",
      "11      1       11\n",
      "12      2       25\n",
      "13      2       25\n",
      "14      2        0\n",
      "15      2        0\n",
      "16      2       25\n",
      "17      2        0\n",
      "18      2        0\n",
      "19      2        0\n",
      "20      2       25\n",
      "21      2       26\n",
      "\n",
      "Time:          0.08351 sec\n",
      "Silhouette:    0.275197\n",
      "Dunn Index:    0.025962\n",
      "ARI:           0.302362\n",
      "NMI:           0.675867\n",
      "Homogeneity:   0.640824\n",
      "Completeness:  0.714964\n",
      "V-Measure:     0.675867\n"
     ]
    }
   ],
   "source": [
    "gmm = GaussianMixture(n_components=30)\n",
    "run0(gmm)"
   ]
  },
  {
   "cell_type": "code",
   "execution_count": 20,
   "id": "fae24dcb-5492-4b6a-935b-e05acb989278",
   "metadata": {},
   "outputs": [
    {
     "name": "stdout",
     "output_type": "stream",
     "text": [
      "    Label  Cluster\n",
      "0       1        0\n",
      "1       1        0\n",
      "2       1        0\n",
      "3       1        0\n",
      "4       1        0\n",
      "5       1        0\n",
      "6       1        0\n",
      "7       1        0\n",
      "8       1        0\n",
      "9       1        0\n",
      "10      1        0\n",
      "11      1        0\n",
      "12      2        0\n",
      "13      2        0\n",
      "14      2        0\n",
      "15      2        0\n",
      "16      2        0\n",
      "17      2        0\n",
      "18      2        0\n",
      "19      2        0\n",
      "20      2        0\n",
      "21      2        0\n",
      "\n",
      "Silhouette:    0.767132\n",
      "Dunn Index:    0.11773\n",
      "ARI:           0.013647\n",
      "NMI:           0.169561\n",
      "Homogeneity:   0.093069\n",
      "Completeness:  0.952029\n",
      "V-Measure:     0.169561\n"
     ]
    }
   ],
   "source": [
    "optics = OPTICS(min_samples=5, xi=0.5, min_cluster_size=0.05)\n",
    "run0(optics)"
   ]
  },
  {
   "cell_type": "markdown",
   "id": "8c0bfd35-17ef-47bc-a267-d14088e68db9",
   "metadata": {
    "jp-MarkdownHeadingCollapsed": true
   },
   "source": [
    "# Feature Extraction"
   ]
  },
  {
   "cell_type": "code",
   "execution_count": 36,
   "id": "2954c68c-cddd-4cc8-ab37-3efcf603132c",
   "metadata": {},
   "outputs": [],
   "source": [
    "def extract_color_histogram(image_path, bins=(8, 8, 8)):\n",
    "    image = cv2.imread(image_path)\n",
    "    hist = cv2.calcHist([image], [0, 1, 2], None, bins, [0, 256, 0, 256, 0, 256])\n",
    "    cv2.normalize(hist, hist)\n",
    "    return hist.flatten()"
   ]
  },
  {
   "cell_type": "code",
   "execution_count": 37,
   "id": "57d61b23-896a-4ed2-9b3e-5a372f7040f7",
   "metadata": {},
   "outputs": [],
   "source": [
    "def extract_shape_features(image_path):\n",
    "    image = cv2.imread(image_path)\n",
    "    gray = cv2.cvtColor(image, cv2.COLOR_BGR2GRAY)\n",
    "    blurred = cv2.GaussianBlur(gray, (5, 5), 0)\n",
    "    _, thresh = cv2.threshold(blurred, 60, 255, cv2.THRESH_BINARY)\n",
    "    contours, _ = cv2.findContours(thresh.copy(), cv2.RETR_EXTERNAL, cv2.CHAIN_APPROX_SIMPLE)\n",
    "    \n",
    "    if len(contours) == 0:\n",
    "        return [0, 0, 0, 0, 0, 0, 0]\n",
    "\n",
    "    contour = max(contours, key=cv2.contourArea)\n",
    "    area = cv2.contourArea(contour)\n",
    "    perimeter = cv2.arcLength(contour, True)\n",
    "    moments = cv2.moments(contour)\n",
    "    hu_moments = cv2.HuMoments(moments).flatten()\n",
    "    \n",
    "    return [area, perimeter] + hu_moments.tolist()"
   ]
  },
  {
   "cell_type": "code",
   "execution_count": 38,
   "id": "6bccb2a2-6cac-4175-8820-9a8bc5fb0a26",
   "metadata": {},
   "outputs": [
    {
     "name": "stderr",
     "output_type": "stream",
     "text": [
      "/home/mohammad/.local/lib/python3.11/site-packages/torchvision/models/_utils.py:208: UserWarning: The parameter 'pretrained' is deprecated since 0.13 and may be removed in the future, please use 'weights' instead.\n",
      "  warnings.warn(\n",
      "/home/mohammad/.local/lib/python3.11/site-packages/torchvision/models/_utils.py:223: UserWarning: Arguments other than a weight enum or `None` for 'weights' are deprecated since 0.13 and may be removed in the future. The current behavior is equivalent to passing `weights=ResNet50_Weights.IMAGENET1K_V1`. You can also use `weights=ResNet50_Weights.DEFAULT` to get the most up-to-date weights.\n",
      "  warnings.warn(msg)\n"
     ]
    }
   ],
   "source": [
    "# Load the pre-trained model\n",
    "model = models.resnet50(pretrained=True)\n",
    "model.eval()\n",
    "\n",
    "# Image transformation\n",
    "transform = transforms.Compose([\n",
    "    transforms.Resize((224, 224)),\n",
    "    transforms.ToTensor(),\n",
    "    transforms.Normalize(mean=[0.485, 0.456, 0.406], std=[0.229, 0.224, 0.225]),\n",
    "])\n",
    "\n",
    "# Function to extract features using a pre-trained model\n",
    "def extract_deep_features(image_path, model, transform):\n",
    "    image = Image.open(image_path).convert('RGB')\n",
    "    image = transform(image).unsqueeze(0)\n",
    "    with torch.no_grad():\n",
    "        features = model(image)\n",
    "    return features.flatten().numpy()"
   ]
  },
  {
   "cell_type": "code",
   "execution_count": 39,
   "id": "a8f5a057-dee4-455e-8cea-16aa9c2e73e3",
   "metadata": {},
   "outputs": [],
   "source": [
    "def extract_feature(image_path):\n",
    "    main_img = cv2.imread(image_path)\n",
    "\n",
    "    image = cv2.imread(image_path)\n",
    "    gray_image = cv2.imread(image_path, cv2.IMREAD_GRAYSCALE)\n",
    "    _, binary_image = cv2.threshold(gray_image, 112, 255, cv2.THRESH_BINARY)\n",
    "\n",
    "    # using image processing module of scipy to find the center of the leaf\n",
    "    c1, c2, c3 = ndi.center_of_mass(image)\n",
    "    c4, c5 = ndi.center_of_mass(gray_image)\n",
    "\n",
    "    # Preprocessing\n",
    "\n",
    "    # Convert the image to RGB\n",
    "    img = cv2.cvtColor(main_img, cv2.COLOR_BGR2RGB)\n",
    "\n",
    "    # Convert the image to Grayscale\n",
    "    gray = cv2.cvtColor(main_img,cv2.COLOR_BGR2GRAY)\n",
    "    \n",
    "    # Perform thresholding\n",
    "    _, thresholded = cv2.threshold(gray, 0, 255, cv2.THRESH_BINARY_INV + cv2.THRESH_OTSU)\n",
    "    \n",
    "    # Find contours\n",
    "    contours, _ = cv2.findContours(thresholded, cv2.RETR_EXTERNAL, cv2.CHAIN_APPROX_SIMPLE)\n",
    "    \n",
    "    # Get the largest contour (assumed to be the leaf)\n",
    "    leaf_contour = max(contours, key=cv2.contourArea)\n",
    "    \n",
    "\n",
    "    # Shape based features\n",
    "    x, y, w, h = cv2.boundingRect(leaf_contour)\n",
    "    area = cv2.contourArea(leaf_contour)\n",
    "    perimeter = cv2.arcLength(leaf_contour, True)\n",
    "    x, y, w, h = cv2.boundingRect(leaf_contour)\n",
    "    physiological_length = max(w, h)\n",
    "    physiological_width = min(w, h)\n",
    "    aspect_ratio = float(physiological_length) / physiological_width\n",
    "    rectangularity = area / (physiological_length * physiological_width)\n",
    "    circularity = (4 * np.pi * area) / (perimeter ** 2)\n",
    "    convex_area = cv2.contourArea(cv2.convexHull(leaf_contour))\n",
    "    convex_ratio = area / convex_area\n",
    "\n",
    "\n",
    "    # Color based features\n",
    "    b, g, r = cv2.split(img)\n",
    "\n",
    "    # Calculate mean and standard deviation for each channel\n",
    "    mean_b = np.mean(b)\n",
    "    mean_g = np.mean(g)\n",
    "    mean_r = np.mean(r)\n",
    "\n",
    "    std_b = np.std(b)\n",
    "    std_g = np.std(g)\n",
    "    std_r = np.std(r)\n",
    "\n",
    "    \n",
    "    # Texture based features\n",
    "    textures = mt.features.haralick(gray)\n",
    "    ht_mean = textures.mean(axis=0)\n",
    "    contrast = ht_mean[1]\n",
    "    correlation = ht_mean[2]\n",
    "    inverse_diff_moments = ht_mean[4]\n",
    "    entropy = ht_mean[8]\n",
    "    \n",
    "\n",
    "    features = [area,perimeter,physiological_length,physiological_width,aspect_ratio,rectangularity,circularity,w,h,convex_area,convex_ratio,\n",
    "            mean_r,mean_g,mean_b,std_r,std_g,std_b,contrast,correlation,inverse_diff_moments,entropy,c1, c2, c3, c4, c5]\n",
    "    \n",
    "    return features"
   ]
  },
  {
   "cell_type": "code",
   "execution_count": 40,
   "id": "f97487b0-4a9f-4736-aba9-133da6d6b00d",
   "metadata": {},
   "outputs": [
    {
     "data": {
      "text/html": [
       "<div>\n",
       "<style scoped>\n",
       "    .dataframe tbody tr th:only-of-type {\n",
       "        vertical-align: middle;\n",
       "    }\n",
       "\n",
       "    .dataframe tbody tr th {\n",
       "        vertical-align: top;\n",
       "    }\n",
       "\n",
       "    .dataframe thead th {\n",
       "        text-align: right;\n",
       "    }\n",
       "</style>\n",
       "<table border=\"1\" class=\"dataframe\">\n",
       "  <thead>\n",
       "    <tr style=\"text-align: right;\">\n",
       "      <th></th>\n",
       "      <th>Label</th>\n",
       "      <th>NO</th>\n",
       "      <th>Feature_1</th>\n",
       "      <th>Feature_2</th>\n",
       "      <th>Feature_3</th>\n",
       "      <th>Feature_4</th>\n",
       "      <th>Feature_5</th>\n",
       "      <th>Feature_6</th>\n",
       "      <th>Feature_7</th>\n",
       "      <th>Feature_8</th>\n",
       "      <th>...</th>\n",
       "      <th>Feature_1031</th>\n",
       "      <th>Feature_1032</th>\n",
       "      <th>Feature_1033</th>\n",
       "      <th>Feature_1034</th>\n",
       "      <th>Feature_1035</th>\n",
       "      <th>Feature_1036</th>\n",
       "      <th>Feature_1037</th>\n",
       "      <th>Feature_1038</th>\n",
       "      <th>Feature_1039</th>\n",
       "      <th>Feature_1040</th>\n",
       "    </tr>\n",
       "  </thead>\n",
       "  <tbody>\n",
       "    <tr>\n",
       "      <th>0</th>\n",
       "      <td>1</td>\n",
       "      <td>1</td>\n",
       "      <td>0.72694</td>\n",
       "      <td>1.4742</td>\n",
       "      <td>0.32396</td>\n",
       "      <td>0.98535</td>\n",
       "      <td>1.00000</td>\n",
       "      <td>0.83592</td>\n",
       "      <td>0.004657</td>\n",
       "      <td>0.003947</td>\n",
       "      <td>...</td>\n",
       "      <td>48.800180</td>\n",
       "      <td>4.077801</td>\n",
       "      <td>0.997188</td>\n",
       "      <td>0.528750</td>\n",
       "      <td>9.161030</td>\n",
       "      <td>453.366295</td>\n",
       "      <td>356.223146</td>\n",
       "      <td>1.147280</td>\n",
       "      <td>452.334369</td>\n",
       "      <td>356.800460</td>\n",
       "    </tr>\n",
       "    <tr>\n",
       "      <th>1</th>\n",
       "      <td>1</td>\n",
       "      <td>2</td>\n",
       "      <td>0.74173</td>\n",
       "      <td>1.5257</td>\n",
       "      <td>0.36116</td>\n",
       "      <td>0.98152</td>\n",
       "      <td>0.99825</td>\n",
       "      <td>0.79867</td>\n",
       "      <td>0.005242</td>\n",
       "      <td>0.005002</td>\n",
       "      <td>...</td>\n",
       "      <td>39.096059</td>\n",
       "      <td>4.335774</td>\n",
       "      <td>0.996491</td>\n",
       "      <td>0.519658</td>\n",
       "      <td>9.111321</td>\n",
       "      <td>450.414812</td>\n",
       "      <td>358.213874</td>\n",
       "      <td>1.182691</td>\n",
       "      <td>449.218342</td>\n",
       "      <td>358.239644</td>\n",
       "    </tr>\n",
       "    <tr>\n",
       "      <th>2</th>\n",
       "      <td>1</td>\n",
       "      <td>3</td>\n",
       "      <td>0.76722</td>\n",
       "      <td>1.5725</td>\n",
       "      <td>0.38998</td>\n",
       "      <td>0.97755</td>\n",
       "      <td>1.00000</td>\n",
       "      <td>0.80812</td>\n",
       "      <td>0.007457</td>\n",
       "      <td>0.010121</td>\n",
       "      <td>...</td>\n",
       "      <td>35.216345</td>\n",
       "      <td>4.591384</td>\n",
       "      <td>0.996212</td>\n",
       "      <td>0.498871</td>\n",
       "      <td>9.235748</td>\n",
       "      <td>451.694494</td>\n",
       "      <td>351.805026</td>\n",
       "      <td>1.186545</td>\n",
       "      <td>450.627998</td>\n",
       "      <td>351.176681</td>\n",
       "    </tr>\n",
       "    <tr>\n",
       "      <th>3</th>\n",
       "      <td>1</td>\n",
       "      <td>4</td>\n",
       "      <td>0.73797</td>\n",
       "      <td>1.4597</td>\n",
       "      <td>0.35376</td>\n",
       "      <td>0.97566</td>\n",
       "      <td>1.00000</td>\n",
       "      <td>0.81697</td>\n",
       "      <td>0.006877</td>\n",
       "      <td>0.008607</td>\n",
       "      <td>...</td>\n",
       "      <td>41.651562</td>\n",
       "      <td>5.693135</td>\n",
       "      <td>0.996041</td>\n",
       "      <td>0.472996</td>\n",
       "      <td>9.209071</td>\n",
       "      <td>452.656454</td>\n",
       "      <td>362.518707</td>\n",
       "      <td>1.180320</td>\n",
       "      <td>452.332362</td>\n",
       "      <td>362.786974</td>\n",
       "    </tr>\n",
       "    <tr>\n",
       "      <th>4</th>\n",
       "      <td>1</td>\n",
       "      <td>5</td>\n",
       "      <td>0.82301</td>\n",
       "      <td>1.7707</td>\n",
       "      <td>0.44462</td>\n",
       "      <td>0.97698</td>\n",
       "      <td>1.00000</td>\n",
       "      <td>0.75493</td>\n",
       "      <td>0.007428</td>\n",
       "      <td>0.010042</td>\n",
       "      <td>...</td>\n",
       "      <td>31.857746</td>\n",
       "      <td>4.787491</td>\n",
       "      <td>0.995451</td>\n",
       "      <td>0.487750</td>\n",
       "      <td>8.944949</td>\n",
       "      <td>453.700415</td>\n",
       "      <td>360.100587</td>\n",
       "      <td>1.176953</td>\n",
       "      <td>453.284900</td>\n",
       "      <td>360.213296</td>\n",
       "    </tr>\n",
       "  </tbody>\n",
       "</table>\n",
       "<p>5 rows × 1042 columns</p>\n",
       "</div>"
      ],
      "text/plain": [
       "   Label  NO  Feature_1  Feature_2  Feature_3  Feature_4  Feature_5  \\\n",
       "0      1   1    0.72694     1.4742    0.32396    0.98535    1.00000   \n",
       "1      1   2    0.74173     1.5257    0.36116    0.98152    0.99825   \n",
       "2      1   3    0.76722     1.5725    0.38998    0.97755    1.00000   \n",
       "3      1   4    0.73797     1.4597    0.35376    0.97566    1.00000   \n",
       "4      1   5    0.82301     1.7707    0.44462    0.97698    1.00000   \n",
       "\n",
       "   Feature_6  Feature_7  Feature_8  ...  Feature_1031  Feature_1032  \\\n",
       "0    0.83592   0.004657   0.003947  ...     48.800180      4.077801   \n",
       "1    0.79867   0.005242   0.005002  ...     39.096059      4.335774   \n",
       "2    0.80812   0.007457   0.010121  ...     35.216345      4.591384   \n",
       "3    0.81697   0.006877   0.008607  ...     41.651562      5.693135   \n",
       "4    0.75493   0.007428   0.010042  ...     31.857746      4.787491   \n",
       "\n",
       "   Feature_1033  Feature_1034  Feature_1035  Feature_1036  Feature_1037  \\\n",
       "0      0.997188      0.528750      9.161030    453.366295    356.223146   \n",
       "1      0.996491      0.519658      9.111321    450.414812    358.213874   \n",
       "2      0.996212      0.498871      9.235748    451.694494    351.805026   \n",
       "3      0.996041      0.472996      9.209071    452.656454    362.518707   \n",
       "4      0.995451      0.487750      8.944949    453.700415    360.100587   \n",
       "\n",
       "   Feature_1038  Feature_1039  Feature_1040  \n",
       "0      1.147280    452.334369    356.800460  \n",
       "1      1.182691    449.218342    358.239644  \n",
       "2      1.186545    450.627998    351.176681  \n",
       "3      1.180320    452.332362    362.786974  \n",
       "4      1.176953    453.284900    360.213296  \n",
       "\n",
       "[5 rows x 1042 columns]"
      ]
     },
     "execution_count": 40,
     "metadata": {},
     "output_type": "execute_result"
    }
   ],
   "source": [
    "image_dir = '../leaves'\n",
    "\n",
    "features = []\n",
    "\n",
    "# Loop over the images and extract felatures\n",
    "for image_class in sorted(os.listdir(image_dir)):\n",
    "    image_class_name = os.path.join(image_dir, image_class)\n",
    "    if int(image_class[:2]) >= 16 and int(image_class[:2]) <= 21:\n",
    "        continue\n",
    "    if int(image_class[:2]) >= 37:\n",
    "        continue\n",
    "    for image_name in sorted(os.listdir(image_class_name)):\n",
    "        image_path = os.path.join(image_class_name, image_name)\n",
    "\n",
    "        #hist_features = extract_color_histogram(image_path)\n",
    "        #shape_features = extract_shape_features(image_path)\n",
    "        deep_features = extract_deep_features(image_path, model, transform)\n",
    "        feature = extract_feature(image_path)\n",
    "        combined_features = np.hstack([deep_features, feature])\n",
    "        features.append(combined_features)\n",
    "        #features.append(feature)\n",
    "        \n",
    "\n",
    "features_df = pd.DataFrame(features)\n",
    "\n",
    "# Combine the features with the original data\n",
    "combined_data = pd.concat([data, features_df], axis=1)\n",
    "columns = ['Label'] + ['NO'] + [f'Feature_{i - 1}' for i in range(2, combined_data.shape[1])]\n",
    "combined_data.columns = columns\n",
    "combined_data.head()"
   ]
  },
  {
   "cell_type": "code",
   "execution_count": 41,
   "id": "d032a8ba-b802-4cdc-9055-4a6e75a21ae3",
   "metadata": {},
   "outputs": [],
   "source": [
    "X = combined_data.drop(columns=['Label', 'NO'])\n",
    "y = combined_data['Label']\n",
    "label_encoder = LabelEncoder()\n",
    "y = label_encoder.fit_transform(y)"
   ]
  },
  {
   "cell_type": "markdown",
   "id": "959ae16b-5408-4a37-b21f-e2bbe2975e81",
   "metadata": {
    "jp-MarkdownHeadingCollapsed": true
   },
   "source": [
    "# Classificatin (image features)"
   ]
  },
  {
   "cell_type": "markdown",
   "id": "bfbed4b0-7210-480c-9b7e-9c47909d46c7",
   "metadata": {
    "jp-MarkdownHeadingCollapsed": true
   },
   "source": [
    "## KNN"
   ]
  },
  {
   "cell_type": "code",
   "execution_count": 42,
   "id": "e52eb641-32e0-4d5e-9c49-312c3e2fe0c5",
   "metadata": {},
   "outputs": [
    {
     "name": "stdout",
     "output_type": "stream",
     "text": [
      "average time: 0.000656 sec\n",
      "average accuracy: 0.894608\n",
      "\n",
      "              precision    recall  f1-score   support\n",
      "\n",
      "           0       1.00      0.67      0.80         6\n",
      "           1       0.80      1.00      0.89         4\n",
      "           2       0.67      1.00      0.80         2\n",
      "           3       1.00      1.00      1.00         3\n",
      "           4       1.00      1.00      1.00         4\n",
      "           5       1.00      1.00      1.00         3\n",
      "           6       1.00      1.00      1.00         1\n",
      "           7       1.00      1.00      1.00         1\n",
      "           8       0.75      1.00      0.86         3\n",
      "           9       1.00      0.75      0.86         4\n",
      "          10       1.00      1.00      1.00         4\n",
      "          11       1.00      1.00      1.00         2\n",
      "          12       1.00      0.83      0.91         6\n",
      "          13       1.00      0.67      0.80         6\n",
      "          14       1.00      1.00      1.00         4\n",
      "          15       1.00      0.67      0.80         3\n",
      "          16       1.00      1.00      1.00         1\n",
      "          17       0.67      1.00      0.80         4\n",
      "          18       1.00      1.00      1.00         3\n",
      "          19       0.60      1.00      0.75         3\n",
      "          20       1.00      1.00      1.00         6\n",
      "          21       1.00      1.00      1.00         3\n",
      "          22       0.80      1.00      0.89         4\n",
      "          23       1.00      1.00      1.00         1\n",
      "          24       1.00      1.00      1.00         3\n",
      "          25       1.00      1.00      1.00         3\n",
      "          26       1.00      0.67      0.80         3\n",
      "          27       1.00      1.00      1.00         3\n",
      "          28       1.00      1.00      1.00         5\n",
      "          29       1.00      1.00      1.00         4\n",
      "\n",
      "    accuracy                           0.92       102\n",
      "   macro avg       0.94      0.94      0.93       102\n",
      "weighted avg       0.95      0.92      0.92       102\n",
      "\n"
     ]
    },
    {
     "data": {
      "image/png": "[encoded data removed]",
      "text/plain": [
       "<Figure size 800x600 with 1 Axes>"
      ]
     },
     "metadata": {},
     "output_type": "display_data"
    }
   ],
   "source": [
    "knn = KNeighborsClassifier(n_neighbors=4)\n",
    "run(knn, 20)"
   ]
  },
  {
   "cell_type": "markdown",
   "id": "cefb298d-bf46-41d3-8bad-58bec12c425f",
   "metadata": {
    "jp-MarkdownHeadingCollapsed": true
   },
   "source": [
    "## Decision Tree"
   ]
  },
  {
   "cell_type": "code",
   "execution_count": 44,
   "id": "bb6532d8-2c37-438f-aa77-d2e6abbefd35",
   "metadata": {},
   "outputs": [
    {
     "name": "stdout",
     "output_type": "stream",
     "text": [
      "average time: 0.20444 sec\n",
      "average accuracy: 0.571078\n",
      "\n",
      "              precision    recall  f1-score   support\n",
      "\n",
      "           0       0.60      1.00      0.75         3\n",
      "           1       0.40      1.00      0.57         2\n",
      "           2       0.29      0.67      0.40         3\n",
      "           3       1.00      0.00      0.00         1\n",
      "           4       0.50      0.33      0.40         3\n",
      "           5       0.50      0.50      0.50         2\n",
      "           6       0.33      0.50      0.40         2\n",
      "           7       1.00      1.00      1.00         3\n",
      "           8       0.00      1.00      0.00         0\n",
      "           9       0.60      0.38      0.46         8\n",
      "          10       1.00      1.00      1.00         7\n",
      "          11       0.60      0.60      0.60         5\n",
      "          12       0.71      0.83      0.77         6\n",
      "          13       1.00      0.25      0.40         4\n",
      "          14       0.33      0.67      0.44         3\n",
      "          15       0.50      0.17      0.25         6\n",
      "          16       0.00      1.00      0.00         0\n",
      "          17       0.67      0.40      0.50         5\n",
      "          18       0.00      0.00      1.00         2\n",
      "          19       1.00      0.00      0.00         2\n",
      "          20       0.33      0.50      0.40         2\n",
      "          21       0.00      0.00      1.00         4\n",
      "          22       1.00      0.67      0.80         6\n",
      "          23       0.25      0.50      0.33         2\n",
      "          24       0.75      0.75      0.75         4\n",
      "          25       1.00      0.50      0.67         4\n",
      "          26       0.00      0.00      1.00         3\n",
      "          27       0.50      0.50      0.50         2\n",
      "          28       0.40      1.00      0.57         2\n",
      "          29       1.00      0.17      0.29         6\n",
      "\n",
      "    accuracy                           0.51       102\n",
      "   macro avg       0.54      0.53      0.53       102\n",
      "weighted avg       0.64      0.51      0.59       102\n",
      "\n"
     ]
    },
    {
     "data": {
      "image/png": "[encoded data removed]",
      "text/plain": [
       "<Figure size 800x600 with 1 Axes>"
      ]
     },
     "metadata": {},
     "output_type": "display_data"
    }
   ],
   "source": [
    "decision_tree = DecisionTreeClassifier()\n",
    "run(decision_tree, 20)"
   ]
  },
  {
   "cell_type": "markdown",
   "id": "6dbf1801-9565-4795-b14e-e76741c2047d",
   "metadata": {
    "jp-MarkdownHeadingCollapsed": true
   },
   "source": [
    "## Random Forest"
   ]
  },
  {
   "cell_type": "code",
   "execution_count": 45,
   "id": "53eccb10-6111-4b1a-a6e8-78739256168a",
   "metadata": {},
   "outputs": [
    {
     "name": "stdout",
     "output_type": "stream",
     "text": [
      "average time: 0.415976 sec\n",
      "average accuracy: 0.917647\n",
      "\n",
      "              precision    recall  f1-score   support\n",
      "\n",
      "           0       1.00      0.67      0.80         3\n",
      "           1       0.75      1.00      0.86         3\n",
      "           2       0.50      1.00      0.67         1\n",
      "           3       1.00      1.00      1.00         2\n",
      "           4       1.00      1.00      1.00         2\n",
      "           5       1.00      1.00      1.00         2\n",
      "           6       1.00      0.75      0.86         4\n",
      "           7       1.00      1.00      1.00         3\n",
      "           8       1.00      1.00      1.00         2\n",
      "           9       1.00      1.00      1.00         5\n",
      "          10       1.00      1.00      1.00         4\n",
      "          11       1.00      1.00      1.00         5\n",
      "          12       1.00      0.75      0.86         4\n",
      "          13       1.00      0.67      0.80         3\n",
      "          14       1.00      1.00      1.00         2\n",
      "          15       0.80      1.00      0.89         4\n",
      "          16       1.00      1.00      1.00         2\n",
      "          17       0.86      1.00      0.92         6\n",
      "          18       1.00      0.75      0.86         4\n",
      "          19       1.00      1.00      1.00         5\n",
      "          20       0.83      1.00      0.91         5\n",
      "          21       1.00      1.00      1.00         4\n",
      "          22       0.75      1.00      0.86         3\n",
      "          23       1.00      1.00      1.00         1\n",
      "          24       1.00      1.00      1.00         5\n",
      "          25       0.75      0.75      0.75         4\n",
      "          26       1.00      0.83      0.91         6\n",
      "          27       1.00      1.00      1.00         3\n",
      "          28       1.00      1.00      1.00         3\n",
      "          29       1.00      1.00      1.00         2\n",
      "\n",
      "    accuracy                           0.93       102\n",
      "   macro avg       0.94      0.94      0.93       102\n",
      "weighted avg       0.95      0.93      0.93       102\n",
      "\n"
     ]
    },
    {
     "data": {
      "image/png": "[encoded data removed]",
      "text/plain": [
       "<Figure size 800x600 with 1 Axes>"
      ]
     },
     "metadata": {},
     "output_type": "display_data"
    }
   ],
   "source": [
    "random_forest = RandomForestClassifier()\n",
    "#random_forest = RandomForestClassifier(n_estimators=200, max_depth=12, min_samples_leaf=2, min_samples_split=5)\n",
    "run(random_forest, 20)"
   ]
  },
  {
   "cell_type": "markdown",
   "id": "003052ef-658f-474a-b36b-6a85855c0cab",
   "metadata": {
    "jp-MarkdownHeadingCollapsed": true
   },
   "source": [
    "## Logistic Regression"
   ]
  },
  {
   "cell_type": "code",
   "execution_count": 49,
   "id": "345f5eec-4052-4aa0-b2bc-cb1d430845bc",
   "metadata": {},
   "outputs": [
    {
     "name": "stdout",
     "output_type": "stream",
     "text": [
      "average time: 1.224191 sec\n",
      "average accuracy: 0.958824\n",
      "\n",
      "              precision    recall  f1-score   support\n",
      "\n",
      "           0       1.00      1.00      1.00         2\n",
      "           1       1.00      0.83      0.91         6\n",
      "           2       1.00      0.50      0.67         2\n",
      "           3       1.00      1.00      1.00         1\n",
      "           4       1.00      1.00      1.00         1\n",
      "           5       1.00      1.00      1.00         3\n",
      "           6       1.00      1.00      1.00         2\n",
      "           7       1.00      1.00      1.00         2\n",
      "           8       1.00      1.00      1.00         4\n",
      "           9       1.00      1.00      1.00         3\n",
      "          10       1.00      1.00      1.00         8\n",
      "          11       1.00      1.00      1.00         3\n",
      "          12       0.88      1.00      0.93         7\n",
      "          13       1.00      1.00      1.00         3\n",
      "          14       1.00      1.00      1.00         4\n",
      "          15       1.00      1.00      1.00         2\n",
      "          16       1.00      1.00      1.00         4\n",
      "          17       0.75      1.00      0.86         3\n",
      "          18       1.00      1.00      1.00         1\n",
      "          19       1.00      1.00      1.00         5\n",
      "          20       1.00      0.83      0.91         6\n",
      "          21       1.00      1.00      1.00         5\n",
      "          22       0.75      1.00      0.86         3\n",
      "          23       1.00      1.00      1.00         4\n",
      "          24       1.00      1.00      1.00         2\n",
      "          25       0.80      1.00      0.89         4\n",
      "          26       1.00      0.67      0.80         3\n",
      "          27       1.00      1.00      1.00         2\n",
      "          28       1.00      1.00      1.00         4\n",
      "          29       1.00      1.00      1.00         3\n",
      "\n",
      "    accuracy                           0.96       102\n",
      "   macro avg       0.97      0.96      0.96       102\n",
      "weighted avg       0.97      0.96      0.96       102\n",
      "\n"
     ]
    },
    {
     "data": {
      "image/png": "[encoded data removed]",
      "text/plain": [
       "<Figure size 800x600 with 1 Axes>"
      ]
     },
     "metadata": {},
     "output_type": "display_data"
    }
   ],
   "source": [
    "logistic_regression = LogisticRegression(max_iter=1500)\n",
    "run(logistic_regression, 20)"
   ]
  },
  {
   "cell_type": "markdown",
   "id": "774c0693-019d-4ac7-b13d-ff8d1d504020",
   "metadata": {
    "jp-MarkdownHeadingCollapsed": true
   },
   "source": [
    "## SVM"
   ]
  },
  {
   "cell_type": "code",
   "execution_count": 50,
   "id": "12b7d958-4d98-4a26-860f-60260e4c1195",
   "metadata": {},
   "outputs": [
    {
     "name": "stdout",
     "output_type": "stream",
     "text": [
      "average time: 0.02021 sec\n",
      "average accuracy: 0.940196\n",
      "\n",
      "              precision    recall  f1-score   support\n",
      "\n",
      "           0       0.75      1.00      0.86         3\n",
      "           1       1.00      1.00      1.00         3\n",
      "           2       0.67      1.00      0.80         2\n",
      "           3       1.00      1.00      1.00         3\n",
      "           4       1.00      1.00      1.00         3\n",
      "           5       1.00      1.00      1.00         3\n",
      "           6       1.00      1.00      1.00         5\n",
      "           7       1.00      1.00      1.00         4\n",
      "           8       1.00      0.83      0.91         6\n",
      "           9       1.00      1.00      1.00         3\n",
      "          10       1.00      1.00      1.00         1\n",
      "          11       1.00      0.75      0.86         4\n",
      "          12       0.67      0.50      0.57         4\n",
      "          13       0.50      0.33      0.40         3\n",
      "          14       1.00      1.00      1.00         3\n",
      "          15       0.75      1.00      0.86         3\n",
      "          16       1.00      1.00      1.00         3\n",
      "          17       0.40      0.67      0.50         3\n",
      "          18       1.00      1.00      1.00         5\n",
      "          19       0.50      1.00      0.67         1\n",
      "          20       1.00      1.00      1.00         2\n",
      "          21       0.67      0.67      0.67         3\n",
      "          22       1.00      1.00      1.00         3\n",
      "          23       1.00      1.00      1.00         5\n",
      "          24       1.00      1.00      1.00         1\n",
      "          25       1.00      1.00      1.00         3\n",
      "          26       1.00      0.80      0.89         5\n",
      "          27       1.00      1.00      1.00         6\n",
      "          28       1.00      0.67      0.80         3\n",
      "          29       1.00      1.00      1.00         6\n",
      "\n",
      "    accuracy                           0.90       102\n",
      "   macro avg       0.90      0.91      0.89       102\n",
      "weighted avg       0.92      0.90      0.90       102\n",
      "\n"
     ]
    },
    {
     "data": {
      "image/png": "[encoded data removed]",
      "text/plain": [
       "<Figure size 800x600 with 1 Axes>"
      ]
     },
     "metadata": {},
     "output_type": "display_data"
    }
   ],
   "source": [
    "svm = SVC()\n",
    "run(svm, 20)"
   ]
  },
  {
   "cell_type": "markdown",
   "id": "9e7f4d18-2fad-406e-b69c-365dfead130f",
   "metadata": {
    "jp-MarkdownHeadingCollapsed": true
   },
   "source": [
    "## Naive Bayes"
   ]
  },
  {
   "cell_type": "code",
   "execution_count": 51,
   "id": "f09499b8-63bf-4b2c-ab2c-91e9ffb3ad74",
   "metadata": {},
   "outputs": [
    {
     "name": "stdout",
     "output_type": "stream",
     "text": [
      "average time: 0.002438 sec\n",
      "average accuracy: 0.871569\n",
      "\n",
      "              precision    recall  f1-score   support\n",
      "\n",
      "           0       1.00      0.67      0.80         3\n",
      "           1       1.00      1.00      1.00         4\n",
      "           2       1.00      1.00      1.00         2\n",
      "           3       1.00      0.00      0.00         5\n",
      "           4       1.00      1.00      1.00         6\n",
      "           5       1.00      0.67      0.80         3\n",
      "           6       1.00      1.00      1.00         3\n",
      "           7       1.00      1.00      1.00         3\n",
      "           8       0.33      1.00      0.50         1\n",
      "           9       0.75      1.00      0.86         3\n",
      "          10       1.00      1.00      1.00         5\n",
      "          11       1.00      1.00      1.00         4\n",
      "          12       0.50      1.00      0.67         4\n",
      "          13       0.60      0.75      0.67         4\n",
      "          14       0.75      1.00      0.86         3\n",
      "          15       0.80      1.00      0.89         4\n",
      "          16       1.00      1.00      1.00         3\n",
      "          17       1.00      1.00      1.00         3\n",
      "          18       1.00      1.00      1.00         3\n",
      "          19       1.00      0.80      0.89         5\n",
      "          20       1.00      0.50      0.67         2\n",
      "          21       1.00      0.50      0.67         4\n",
      "          22       1.00      1.00      1.00         2\n",
      "          23       1.00      1.00      1.00         4\n",
      "          24       1.00      1.00      1.00         5\n",
      "          25       1.00      1.00      1.00         4\n",
      "          26       0.00      1.00      0.00         0\n",
      "          27       1.00      1.00      1.00         4\n",
      "          28       1.00      1.00      1.00         2\n",
      "          29       1.00      1.00      1.00         4\n",
      "\n",
      "    accuracy                           0.88       102\n",
      "   macro avg       0.89      0.90      0.84       102\n",
      "weighted avg       0.94      0.88      0.87       102\n",
      "\n"
     ]
    },
    {
     "data": {
      "image/png": "[encoded data removed]",
      "text/plain": [
       "<Figure size 800x600 with 1 Axes>"
      ]
     },
     "metadata": {},
     "output_type": "display_data"
    }
   ],
   "source": [
    "naive_bayes = GaussianNB()\n",
    "run(naive_bayes, 20)"
   ]
  },
  {
   "cell_type": "markdown",
   "id": "f6177f10-9fc4-47ab-a9dd-be259ff55bfe",
   "metadata": {
    "jp-MarkdownHeadingCollapsed": true
   },
   "source": [
    "## XGBoost"
   ]
  },
  {
   "cell_type": "code",
   "execution_count": 52,
   "id": "a68c9188-7ecc-4605-b1e1-4838975a6cd1",
   "metadata": {},
   "outputs": [
    {
     "name": "stdout",
     "output_type": "stream",
     "text": [
      "average time: 4.344252 sec\n",
      "average accuracy: 0.837745\n",
      "\n",
      "              precision    recall  f1-score   support\n",
      "\n",
      "           0       0.67      1.00      0.80         2\n",
      "           1       0.50      0.50      0.50         2\n",
      "           2       1.00      0.80      0.89         5\n",
      "           3       0.50      0.50      0.50         2\n",
      "           4       0.60      1.00      0.75         3\n",
      "           5       1.00      0.25      0.40         4\n",
      "           6       1.00      1.00      1.00         2\n",
      "           7       1.00      1.00      1.00         5\n",
      "           8       0.83      0.83      0.83         6\n",
      "           9       0.67      1.00      0.80         2\n",
      "          10       0.83      1.00      0.91         5\n",
      "          11       1.00      1.00      1.00         3\n",
      "          12       0.67      0.50      0.57         4\n",
      "          13       0.75      1.00      0.86         3\n",
      "          14       1.00      0.25      0.40         4\n",
      "          15       1.00      1.00      1.00         3\n",
      "          16       1.00      1.00      1.00         4\n",
      "          17       0.67      1.00      0.80         2\n",
      "          18       0.50      1.00      0.67         2\n",
      "          19       1.00      0.67      0.80         3\n",
      "          20       0.33      1.00      0.50         1\n",
      "          21       1.00      0.80      0.89         5\n",
      "          22       1.00      1.00      1.00         5\n",
      "          23       1.00      1.00      1.00         5\n",
      "          24       1.00      0.75      0.86         4\n",
      "          25       0.50      0.50      0.50         2\n",
      "          26       1.00      0.80      0.89         5\n",
      "          27       0.67      1.00      0.80         2\n",
      "          28       1.00      1.00      1.00         3\n",
      "          29       1.00      1.00      1.00         4\n",
      "\n",
      "    accuracy                           0.83       102\n",
      "   macro avg       0.82      0.84      0.80       102\n",
      "weighted avg       0.88      0.83      0.83       102\n",
      "\n"
     ]
    },
    {
     "data": {
      "image/png": "[encoded data removed]",
      "text/plain": [
       "<Figure size 800x600 with 1 Axes>"
      ]
     },
     "metadata": {},
     "output_type": "display_data"
    }
   ],
   "source": [
    "xgboost = XGBClassifier(use_label_encoder=False, eval_metric='logloss')\n",
    "run(xgboost, 20)"
   ]
  },
  {
   "cell_type": "markdown",
   "id": "dc97bd80-041c-4cc9-a36e-0fadd53b6df5",
   "metadata": {
    "jp-MarkdownHeadingCollapsed": true
   },
   "source": [
    "## LGBM"
   ]
  },
  {
   "cell_type": "code",
   "execution_count": 53,
   "id": "4d41e7c7-5f4d-4235-9668-104413131324",
   "metadata": {},
   "outputs": [
    {
     "name": "stdout",
     "output_type": "stream",
     "text": [
      "average time: 1.949433 sec\n",
      "average accuracy: 0.87451\n",
      "\n",
      "              precision    recall  f1-score   support\n",
      "\n",
      "           0       1.00      0.75      0.86         4\n",
      "           1       1.00      0.50      0.67         2\n",
      "           2       1.00      1.00      1.00         3\n",
      "           3       1.00      1.00      1.00         2\n",
      "           4       0.60      1.00      0.75         3\n",
      "           5       1.00      0.40      0.57         5\n",
      "           6       1.00      1.00      1.00         5\n",
      "           7       1.00      1.00      1.00         4\n",
      "           8       0.75      0.75      0.75         4\n",
      "           9       1.00      1.00      1.00         3\n",
      "          10       0.75      1.00      0.86         3\n",
      "          11       1.00      0.86      0.92         7\n",
      "          12       1.00      0.75      0.86         4\n",
      "          13       1.00      1.00      1.00         4\n",
      "          14       0.67      1.00      0.80         2\n",
      "          15       1.00      1.00      1.00         3\n",
      "          16       1.00      1.00      1.00         3\n",
      "          17       0.75      1.00      0.86         6\n",
      "          18       1.00      1.00      1.00         3\n",
      "          19       1.00      1.00      1.00         1\n",
      "          20       1.00      0.86      0.92         7\n",
      "          21       1.00      1.00      1.00         2\n",
      "          22       1.00      1.00      1.00         1\n",
      "          23       1.00      1.00      1.00         6\n",
      "          24       1.00      0.67      0.80         3\n",
      "          25       0.67      1.00      0.80         4\n",
      "          26       1.00      1.00      1.00         2\n",
      "          27       0.67      1.00      0.80         2\n",
      "          28       1.00      1.00      1.00         2\n",
      "          29       1.00      1.00      1.00         2\n",
      "\n",
      "    accuracy                           0.90       102\n",
      "   macro avg       0.93      0.92      0.91       102\n",
      "weighted avg       0.93      0.90      0.90       102\n",
      "\n"
     ]
    },
    {
     "data": {
      "image/png": "[encoded data removed]",
      "text/plain": [
       "<Figure size 800x600 with 1 Axes>"
      ]
     },
     "metadata": {},
     "output_type": "display_data"
    }
   ],
   "source": [
    "lgb = LGBMClassifier(verbose=-1)\n",
    "run(lgb, 20)"
   ]
  },
  {
   "cell_type": "markdown",
   "id": "cc2a00d3-602c-4f13-a0b6-f09506b015cf",
   "metadata": {
    "jp-MarkdownHeadingCollapsed": true
   },
   "source": [
    "# Clustering (image features)"
   ]
  },
  {
   "cell_type": "markdown",
   "id": "27b8b18e-f248-4eec-9bde-5b8309f745da",
   "metadata": {
    "jp-MarkdownHeadingCollapsed": true
   },
   "source": [
    "## K-Means"
   ]
  },
  {
   "cell_type": "code",
   "execution_count": 54,
   "id": "3ce448f2-449d-4587-a118-befd43510906",
   "metadata": {},
   "outputs": [
    {
     "name": "stderr",
     "output_type": "stream",
     "text": [
      "/home/mohammad/.local/lib/python3.11/site-packages/sklearn/cluster/_kmeans.py:1416: FutureWarning: The default value of `n_init` will change from 10 to 'auto' in 1.4. Set the value of `n_init` explicitly to suppress the warning\n",
      "  super()._check_params_vs_input(X, default_n_init=10)\n"
     ]
    },
    {
     "name": "stdout",
     "output_type": "stream",
     "text": [
      "    Label  Cluster\n",
      "0       1       21\n",
      "1       1       21\n",
      "2       1       20\n",
      "3       1       18\n",
      "4       1       10\n",
      "5       1       28\n",
      "6       1       28\n",
      "7       1       28\n",
      "8       1        0\n",
      "9       1       21\n",
      "10      1       21\n",
      "11      1       10\n",
      "12      2        4\n",
      "13      2       18\n",
      "14      2        4\n",
      "15      2        4\n",
      "16      2       18\n",
      "17      2        4\n",
      "18      2       18\n",
      "19      2        4\n",
      "20      2        4\n",
      "21      2        5\n",
      "\n",
      "Time:          1.041553 sec\n",
      "Silhouette:    0.407521\n",
      "Dunn Index:    0.033554\n",
      "ARI:           0.076213\n",
      "NMI:           0.450248\n",
      "Homogeneity:   0.439517\n",
      "Completeness:  0.461516\n",
      "V-Measure:     0.450248\n"
     ]
    }
   ],
   "source": [
    "kmeans = KMeans(n_clusters=30)\n",
    "run0(kmeans)"
   ]
  },
  {
   "cell_type": "markdown",
   "id": "6870eb49-54a6-4daa-b1e3-73614eec8ce9",
   "metadata": {
    "jp-MarkdownHeadingCollapsed": true
   },
   "source": [
    "## Agglomerative"
   ]
  },
  {
   "cell_type": "code",
   "execution_count": 55,
   "id": "cf53e6a2-7b38-4c44-a14c-007728bd32b9",
   "metadata": {},
   "outputs": [
    {
     "name": "stdout",
     "output_type": "stream",
     "text": [
      "    Label  Cluster\n",
      "0       1       10\n",
      "1       1       10\n",
      "2       1        0\n",
      "3       1       18\n",
      "4       1       21\n",
      "5       1        0\n",
      "6       1        0\n",
      "7       1        0\n",
      "8       1       27\n",
      "9       1       10\n",
      "10      1       10\n",
      "11      1       21\n",
      "12      2       13\n",
      "13      2       18\n",
      "14      2       13\n",
      "15      2       13\n",
      "16      2       18\n",
      "17      2       13\n",
      "18      2       18\n",
      "19      2       13\n",
      "20      2       13\n",
      "21      2        9\n",
      "\n",
      "Time:          0.026268 sec\n",
      "Silhouette:    0.40529\n",
      "Dunn Index:    0.052651\n",
      "ARI:           0.092434\n",
      "NMI:           0.469392\n",
      "Homogeneity:   0.458865\n",
      "Completeness:  0.480415\n",
      "V-Measure:     0.469392\n"
     ]
    }
   ],
   "source": [
    "agg = AgglomerativeClustering(n_clusters=30)\n",
    "run0(agg)"
   ]
  },
  {
   "cell_type": "markdown",
   "id": "5f4f9578-262f-4404-90cb-2ae6ab2178fe",
   "metadata": {
    "jp-MarkdownHeadingCollapsed": true
   },
   "source": [
    "## Spectral Clustering"
   ]
  },
  {
   "cell_type": "code",
   "execution_count": 56,
   "id": "eb535c74-f676-4547-9f49-dd4a9001848b",
   "metadata": {},
   "outputs": [
    {
     "name": "stdout",
     "output_type": "stream",
     "text": [
      "    Label  Cluster\n",
      "0       1        5\n",
      "1       1        5\n",
      "2       1        3\n",
      "3       1       21\n",
      "4       1        9\n",
      "5       1        3\n",
      "6       1        3\n",
      "7       1        3\n",
      "8       1       16\n",
      "9       1        5\n",
      "10      1        5\n",
      "11      1        9\n",
      "12      2        8\n",
      "13      2       21\n",
      "14      2        8\n",
      "15      2        8\n",
      "16      2       21\n",
      "17      2        7\n",
      "18      2       10\n",
      "19      2        8\n",
      "20      2        8\n",
      "21      2       11\n",
      "\n",
      "Time:          0.941071 sec\n",
      "Silhouette:    0.36807\n",
      "Dunn Index:    0.015997\n",
      "ARI:           0.093606\n",
      "NMI:           0.467846\n",
      "Homogeneity:   0.467096\n",
      "Completeness:  0.468598\n",
      "V-Measure:     0.467846\n"
     ]
    }
   ],
   "source": [
    "spectral_clustering = SpectralClustering(n_clusters=30, affinity='nearest_neighbors')\n",
    "run0(spectral_clustering)"
   ]
  },
  {
   "cell_type": "markdown",
   "id": "19c4ac46-0a8c-401e-a2a1-def55096d0fe",
   "metadata": {
    "jp-MarkdownHeadingCollapsed": true
   },
   "source": [
    "## Gaussian Mixture"
   ]
  },
  {
   "cell_type": "code",
   "execution_count": 57,
   "id": "48ee3aaf-da07-4e51-8378-4e417e0dfa17",
   "metadata": {},
   "outputs": [
    {
     "name": "stdout",
     "output_type": "stream",
     "text": [
      "    Label  Cluster\n",
      "0       1        4\n",
      "1       1        4\n",
      "2       1       27\n",
      "3       1       23\n",
      "4       1        1\n",
      "5       1       27\n",
      "6       1       27\n",
      "7       1       27\n",
      "8       1       19\n",
      "9       1       11\n",
      "10      1       11\n",
      "11      1        1\n",
      "12      2        7\n",
      "13      2       23\n",
      "14      2        7\n",
      "15      2        7\n",
      "16      2       23\n",
      "17      2        7\n",
      "18      2       23\n",
      "19      2        7\n",
      "20      2        7\n",
      "21      2       13\n",
      "\n",
      "Time:          4.9872 sec\n",
      "Silhouette:    0.418947\n",
      "Dunn Index:    0.027015\n",
      "ARI:           0.081629\n",
      "NMI:           0.451989\n",
      "Homogeneity:   0.440291\n",
      "Completeness:  0.464325\n",
      "V-Measure:     0.451989\n"
     ]
    }
   ],
   "source": [
    "gmm = GaussianMixture(n_components=30)\n",
    "run0(gmm)"
   ]
  },
  {
   "cell_type": "code",
   "execution_count": null,
   "id": "5df04c85-db17-420e-b00c-10a10673dab1",
   "metadata": {},
   "outputs": [],
   "source": []
  }
 ],
 "metadata": {
  "kernelspec": {
   "display_name": "Python 3 (ipykernel)",
   "language": "python",
   "name": "python3"
  },
  "language_info": {
   "codemirror_mode": {
    "name": "ipython",
    "version": 3
   },
   "file_extension": ".py",
   "mimetype": "text/x-python",
   "name": "python",
   "nbconvert_exporter": "python",
   "pygments_lexer": "ipython3",
   "version": "3.11.2"
  }
 },
 "nbformat": 4,
 "nbformat_minor": 5
}
